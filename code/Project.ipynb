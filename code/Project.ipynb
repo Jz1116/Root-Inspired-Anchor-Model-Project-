{
 "cells": [
  {
   "cell_type": "code",
   "execution_count": 18,
   "metadata": {},
   "outputs": [],
   "source": [
    "import pandas as pd\n",
    "from pandas.plotting import radviz\n",
    "import matplotlib.pyplot as plt\n",
    "import numpy as np\n",
    "from sklearn.model_selection import train_test_split\n",
    "#import the model we are using\n",
    "from sklearn.ensemble import RandomForestRegressor\n",
    "from sklearn import svm, preprocessing\n",
    "from sklearn.decomposition import PCA\n",
    "from sklearn.preprocessing import StandardScaler\n",
    "from sklearn import linear_model\n",
    "from sklearn.ensemble import BaggingClassifier\n",
    "from sklearn.tree import DecisionTreeClassifier\n",
    "from sklearn.metrics import mean_squared_error, mean_absolute_error, explained_variance_score"
   ]
  },
  {
   "cell_type": "code",
   "execution_count": 19,
   "metadata": {
    "scrolled": true
   },
   "outputs": [
    {
     "data": {
      "text/html": [
       "<div>\n",
       "<style scoped>\n",
       "    .dataframe tbody tr th:only-of-type {\n",
       "        vertical-align: middle;\n",
       "    }\n",
       "\n",
       "    .dataframe tbody tr th {\n",
       "        vertical-align: top;\n",
       "    }\n",
       "\n",
       "    .dataframe thead th {\n",
       "        text-align: right;\n",
       "    }\n",
       "</style>\n",
       "<table border=\"1\" class=\"dataframe\">\n",
       "  <thead>\n",
       "    <tr style=\"text-align: right;\">\n",
       "      <th></th>\n",
       "      <th>α [°]</th>\n",
       "      <th>H [mm]</th>\n",
       "      <th>b [mm]</th>\n",
       "      <th>Ls [mm]</th>\n",
       "      <th>d [mm]</th>\n",
       "      <th>γ [N/mm3]</th>\n",
       "      <th>Pmax [N]</th>\n",
       "      <th>Vroot [mm3]</th>\n",
       "      <th>DR [ ]</th>\n",
       "    </tr>\n",
       "  </thead>\n",
       "  <tbody>\n",
       "    <tr>\n",
       "      <th>0</th>\n",
       "      <td>15</td>\n",
       "      <td>90.0</td>\n",
       "      <td>19.4114</td>\n",
       "      <td>17.555563</td>\n",
       "      <td>5.0</td>\n",
       "      <td>0.000016</td>\n",
       "      <td>9.080644</td>\n",
       "      <td>4534.350557</td>\n",
       "      <td>0.8</td>\n",
       "    </tr>\n",
       "    <tr>\n",
       "      <th>1</th>\n",
       "      <td>15</td>\n",
       "      <td>90.0</td>\n",
       "      <td>12.9410</td>\n",
       "      <td>41.703709</td>\n",
       "      <td>5.0</td>\n",
       "      <td>0.000016</td>\n",
       "      <td>8.758713</td>\n",
       "      <td>3535.876732</td>\n",
       "      <td>0.8</td>\n",
       "    </tr>\n",
       "    <tr>\n",
       "      <th>2</th>\n",
       "      <td>15</td>\n",
       "      <td>90.0</td>\n",
       "      <td>19.4114</td>\n",
       "      <td>17.555563</td>\n",
       "      <td>5.0</td>\n",
       "      <td>0.000016</td>\n",
       "      <td>11.753734</td>\n",
       "      <td>8267.564868</td>\n",
       "      <td>0.8</td>\n",
       "    </tr>\n",
       "    <tr>\n",
       "      <th>3</th>\n",
       "      <td>15</td>\n",
       "      <td>90.0</td>\n",
       "      <td>12.9410</td>\n",
       "      <td>41.703709</td>\n",
       "      <td>5.0</td>\n",
       "      <td>0.000016</td>\n",
       "      <td>10.797683</td>\n",
       "      <td>5796.469487</td>\n",
       "      <td>0.8</td>\n",
       "    </tr>\n",
       "    <tr>\n",
       "      <th>4</th>\n",
       "      <td>15</td>\n",
       "      <td>90.0</td>\n",
       "      <td>19.4114</td>\n",
       "      <td>17.555563</td>\n",
       "      <td>5.0</td>\n",
       "      <td>0.000016</td>\n",
       "      <td>14.095079</td>\n",
       "      <td>23281.011643</td>\n",
       "      <td>0.8</td>\n",
       "    </tr>\n",
       "  </tbody>\n",
       "</table>\n",
       "</div>"
      ],
      "text/plain": [
       "   α [°]  H [mm]   b [mm]    Ls [mm]  d [mm]  γ [N/mm3]   Pmax [N]  \\\n",
       "0     15    90.0  19.4114  17.555563     5.0   0.000016   9.080644   \n",
       "1     15    90.0  12.9410  41.703709     5.0   0.000016   8.758713   \n",
       "2     15    90.0  19.4114  17.555563     5.0   0.000016  11.753734   \n",
       "3     15    90.0  12.9410  41.703709     5.0   0.000016  10.797683   \n",
       "4     15    90.0  19.4114  17.555563     5.0   0.000016  14.095079   \n",
       "\n",
       "    Vroot [mm3]  DR [ ]  \n",
       "0   4534.350557     0.8  \n",
       "1   3535.876732     0.8  \n",
       "2   8267.564868     0.8  \n",
       "3   5796.469487     0.8  \n",
       "4  23281.011643     0.8  "
      ]
     },
     "execution_count": 19,
     "metadata": {},
     "output_type": "execute_result"
    }
   ],
   "source": [
    "def read(file):\n",
    "    return pd.read_csv(file)\n",
    "\n",
    "#features.set_index(['Index'], inplace = True)\n",
    "#features.drop(columns = ['Index'], inplace = True)\n",
    "\n",
    "features = read('Pmax_backward_Final 1.csv')\n",
    "features.head(5)"
   ]
  },
  {
   "cell_type": "code",
   "execution_count": 20,
   "metadata": {},
   "outputs": [
    {
     "name": "stdout",
     "output_type": "stream",
     "text": [
      "The shape of our feature is (177, 9)\n"
     ]
    }
   ],
   "source": [
    "def print_shape(data):\n",
    "    print(\"The shape of our feature is \" + str(data.shape))\n",
    "\n",
    "print_shape(features)"
   ]
  },
  {
   "cell_type": "code",
   "execution_count": 21,
   "metadata": {},
   "outputs": [
    {
     "data": {
      "text/plain": [
       "array(['α [°]', 'H [mm]', 'b [mm]', 'Ls [mm]', 'd [mm]', 'γ [N/mm3]',\n",
       "       'Pmax [N]', 'Vroot [mm3]', 'DR [ ]'], dtype=object)"
      ]
     },
     "execution_count": 21,
     "metadata": {},
     "output_type": "execute_result"
    }
   ],
   "source": [
    "#summary statistics\n",
    "features.describe()\n",
    "features.columns.values"
   ]
  },
  {
   "cell_type": "code",
   "execution_count": 22,
   "metadata": {},
   "outputs": [],
   "source": [
    "#pd.options.display.max_rows = 181\n",
    "pd.options.display.max_columns = 30\n",
    "#features.sort_values(by = \"L [mm]\", ascending = True, inplace = True)\n",
    "#display(features)"
   ]
  },
  {
   "cell_type": "code",
   "execution_count": 23,
   "metadata": {},
   "outputs": [],
   "source": [
    "#one hot encoding\n",
    "pd.options.display.max_columns = 181\n",
    "pd.options.display.max_rows = 181\n",
    "\n",
    "if 'n [count]' in features.columns and 'Material' in features.columns:\n",
    "    features = pd.get_dummies(features, columns = ['n [count]', 'Material'])\n",
    "elif 'n [count]' in features.columns:\n",
    "    features = pd.get_dummies(features, columns = ['n [count]'])\n",
    "elif 'Material' in features.columns:\n",
    "    features = pd.get_dummies(features, columns = ['Material'])\n",
    "#features.head(5)\n",
    "#display(features)\n",
    "#print_shape(features)"
   ]
  },
  {
   "cell_type": "code",
   "execution_count": 24,
   "metadata": {
    "scrolled": false
   },
   "outputs": [
    {
     "ename": "KeyError",
     "evalue": "'f'",
     "output_type": "error",
     "traceback": [
      "\u001b[0;31m---------------------------------------------------------------------------\u001b[0m",
      "\u001b[0;31mKeyError\u001b[0m                                  Traceback (most recent call last)",
      "\u001b[0;32m//anaconda3/lib/python3.7/site-packages/pandas/core/indexes/base.py\u001b[0m in \u001b[0;36mget_loc\u001b[0;34m(self, key, method, tolerance)\u001b[0m\n\u001b[1;32m   2656\u001b[0m             \u001b[0;32mtry\u001b[0m\u001b[0;34m:\u001b[0m\u001b[0;34m\u001b[0m\u001b[0;34m\u001b[0m\u001b[0m\n\u001b[0;32m-> 2657\u001b[0;31m                 \u001b[0;32mreturn\u001b[0m \u001b[0mself\u001b[0m\u001b[0;34m.\u001b[0m\u001b[0m_engine\u001b[0m\u001b[0;34m.\u001b[0m\u001b[0mget_loc\u001b[0m\u001b[0;34m(\u001b[0m\u001b[0mkey\u001b[0m\u001b[0;34m)\u001b[0m\u001b[0;34m\u001b[0m\u001b[0;34m\u001b[0m\u001b[0m\n\u001b[0m\u001b[1;32m   2658\u001b[0m             \u001b[0;32mexcept\u001b[0m \u001b[0mKeyError\u001b[0m\u001b[0;34m:\u001b[0m\u001b[0;34m\u001b[0m\u001b[0;34m\u001b[0m\u001b[0m\n",
      "\u001b[0;32mpandas/_libs/index.pyx\u001b[0m in \u001b[0;36mpandas._libs.index.IndexEngine.get_loc\u001b[0;34m()\u001b[0m\n",
      "\u001b[0;32mpandas/_libs/index.pyx\u001b[0m in \u001b[0;36mpandas._libs.index.IndexEngine.get_loc\u001b[0;34m()\u001b[0m\n",
      "\u001b[0;32mpandas/_libs/hashtable_class_helper.pxi\u001b[0m in \u001b[0;36mpandas._libs.hashtable.PyObjectHashTable.get_item\u001b[0;34m()\u001b[0m\n",
      "\u001b[0;32mpandas/_libs/hashtable_class_helper.pxi\u001b[0m in \u001b[0;36mpandas._libs.hashtable.PyObjectHashTable.get_item\u001b[0;34m()\u001b[0m\n",
      "\u001b[0;31mKeyError\u001b[0m: 'f'",
      "\nDuring handling of the above exception, another exception occurred:\n",
      "\u001b[0;31mKeyError\u001b[0m                                  Traceback (most recent call last)",
      "\u001b[0;32m<ipython-input-24-5900e69eb78e>\u001b[0m in \u001b[0;36m<module>\u001b[0;34m\u001b[0m\n\u001b[1;32m      1\u001b[0m \u001b[0;31m#target pmax/f\u001b[0m\u001b[0;34m\u001b[0m\u001b[0;34m\u001b[0m\u001b[0;34m\u001b[0m\u001b[0m\n\u001b[0;32m----> 2\u001b[0;31m \u001b[0mpmax\u001b[0m \u001b[0;34m=\u001b[0m \u001b[0mnp\u001b[0m\u001b[0;34m.\u001b[0m\u001b[0marray\u001b[0m\u001b[0;34m(\u001b[0m\u001b[0mfeatures\u001b[0m\u001b[0;34m[\u001b[0m\u001b[0;34m'f'\u001b[0m\u001b[0;34m]\u001b[0m\u001b[0;34m)\u001b[0m\u001b[0;34m\u001b[0m\u001b[0;34m\u001b[0m\u001b[0m\n\u001b[0m\u001b[1;32m      3\u001b[0m \u001b[0;31m#Remove labels from the features\u001b[0m\u001b[0;34m\u001b[0m\u001b[0;34m\u001b[0m\u001b[0;34m\u001b[0m\u001b[0m\n\u001b[1;32m      4\u001b[0m \u001b[0mfeatures\u001b[0m \u001b[0;34m=\u001b[0m \u001b[0mfeatures\u001b[0m\u001b[0;34m.\u001b[0m\u001b[0mdrop\u001b[0m\u001b[0;34m(\u001b[0m\u001b[0;34m'f'\u001b[0m\u001b[0;34m,\u001b[0m \u001b[0maxis\u001b[0m \u001b[0;34m=\u001b[0m \u001b[0;36m1\u001b[0m\u001b[0;34m)\u001b[0m\u001b[0;34m\u001b[0m\u001b[0;34m\u001b[0m\u001b[0m\n\u001b[1;32m      5\u001b[0m \u001b[0mfeature_list\u001b[0m \u001b[0;34m=\u001b[0m \u001b[0mlist\u001b[0m\u001b[0;34m(\u001b[0m\u001b[0mfeatures\u001b[0m\u001b[0;34m.\u001b[0m\u001b[0mcolumns\u001b[0m\u001b[0;34m)\u001b[0m\u001b[0;34m\u001b[0m\u001b[0;34m\u001b[0m\u001b[0m\n",
      "\u001b[0;32m//anaconda3/lib/python3.7/site-packages/pandas/core/frame.py\u001b[0m in \u001b[0;36m__getitem__\u001b[0;34m(self, key)\u001b[0m\n\u001b[1;32m   2925\u001b[0m             \u001b[0;32mif\u001b[0m \u001b[0mself\u001b[0m\u001b[0;34m.\u001b[0m\u001b[0mcolumns\u001b[0m\u001b[0;34m.\u001b[0m\u001b[0mnlevels\u001b[0m \u001b[0;34m>\u001b[0m \u001b[0;36m1\u001b[0m\u001b[0;34m:\u001b[0m\u001b[0;34m\u001b[0m\u001b[0;34m\u001b[0m\u001b[0m\n\u001b[1;32m   2926\u001b[0m                 \u001b[0;32mreturn\u001b[0m \u001b[0mself\u001b[0m\u001b[0;34m.\u001b[0m\u001b[0m_getitem_multilevel\u001b[0m\u001b[0;34m(\u001b[0m\u001b[0mkey\u001b[0m\u001b[0;34m)\u001b[0m\u001b[0;34m\u001b[0m\u001b[0;34m\u001b[0m\u001b[0m\n\u001b[0;32m-> 2927\u001b[0;31m             \u001b[0mindexer\u001b[0m \u001b[0;34m=\u001b[0m \u001b[0mself\u001b[0m\u001b[0;34m.\u001b[0m\u001b[0mcolumns\u001b[0m\u001b[0;34m.\u001b[0m\u001b[0mget_loc\u001b[0m\u001b[0;34m(\u001b[0m\u001b[0mkey\u001b[0m\u001b[0;34m)\u001b[0m\u001b[0;34m\u001b[0m\u001b[0;34m\u001b[0m\u001b[0m\n\u001b[0m\u001b[1;32m   2928\u001b[0m             \u001b[0;32mif\u001b[0m \u001b[0mis_integer\u001b[0m\u001b[0;34m(\u001b[0m\u001b[0mindexer\u001b[0m\u001b[0;34m)\u001b[0m\u001b[0;34m:\u001b[0m\u001b[0;34m\u001b[0m\u001b[0;34m\u001b[0m\u001b[0m\n\u001b[1;32m   2929\u001b[0m                 \u001b[0mindexer\u001b[0m \u001b[0;34m=\u001b[0m \u001b[0;34m[\u001b[0m\u001b[0mindexer\u001b[0m\u001b[0;34m]\u001b[0m\u001b[0;34m\u001b[0m\u001b[0;34m\u001b[0m\u001b[0m\n",
      "\u001b[0;32m//anaconda3/lib/python3.7/site-packages/pandas/core/indexes/base.py\u001b[0m in \u001b[0;36mget_loc\u001b[0;34m(self, key, method, tolerance)\u001b[0m\n\u001b[1;32m   2657\u001b[0m                 \u001b[0;32mreturn\u001b[0m \u001b[0mself\u001b[0m\u001b[0;34m.\u001b[0m\u001b[0m_engine\u001b[0m\u001b[0;34m.\u001b[0m\u001b[0mget_loc\u001b[0m\u001b[0;34m(\u001b[0m\u001b[0mkey\u001b[0m\u001b[0;34m)\u001b[0m\u001b[0;34m\u001b[0m\u001b[0;34m\u001b[0m\u001b[0m\n\u001b[1;32m   2658\u001b[0m             \u001b[0;32mexcept\u001b[0m \u001b[0mKeyError\u001b[0m\u001b[0;34m:\u001b[0m\u001b[0;34m\u001b[0m\u001b[0;34m\u001b[0m\u001b[0m\n\u001b[0;32m-> 2659\u001b[0;31m                 \u001b[0;32mreturn\u001b[0m \u001b[0mself\u001b[0m\u001b[0;34m.\u001b[0m\u001b[0m_engine\u001b[0m\u001b[0;34m.\u001b[0m\u001b[0mget_loc\u001b[0m\u001b[0;34m(\u001b[0m\u001b[0mself\u001b[0m\u001b[0;34m.\u001b[0m\u001b[0m_maybe_cast_indexer\u001b[0m\u001b[0;34m(\u001b[0m\u001b[0mkey\u001b[0m\u001b[0;34m)\u001b[0m\u001b[0;34m)\u001b[0m\u001b[0;34m\u001b[0m\u001b[0;34m\u001b[0m\u001b[0m\n\u001b[0m\u001b[1;32m   2660\u001b[0m         \u001b[0mindexer\u001b[0m \u001b[0;34m=\u001b[0m \u001b[0mself\u001b[0m\u001b[0;34m.\u001b[0m\u001b[0mget_indexer\u001b[0m\u001b[0;34m(\u001b[0m\u001b[0;34m[\u001b[0m\u001b[0mkey\u001b[0m\u001b[0;34m]\u001b[0m\u001b[0;34m,\u001b[0m \u001b[0mmethod\u001b[0m\u001b[0;34m=\u001b[0m\u001b[0mmethod\u001b[0m\u001b[0;34m,\u001b[0m \u001b[0mtolerance\u001b[0m\u001b[0;34m=\u001b[0m\u001b[0mtolerance\u001b[0m\u001b[0;34m)\u001b[0m\u001b[0;34m\u001b[0m\u001b[0;34m\u001b[0m\u001b[0m\n\u001b[1;32m   2661\u001b[0m         \u001b[0;32mif\u001b[0m \u001b[0mindexer\u001b[0m\u001b[0;34m.\u001b[0m\u001b[0mndim\u001b[0m \u001b[0;34m>\u001b[0m \u001b[0;36m1\u001b[0m \u001b[0;32mor\u001b[0m \u001b[0mindexer\u001b[0m\u001b[0;34m.\u001b[0m\u001b[0msize\u001b[0m \u001b[0;34m>\u001b[0m \u001b[0;36m1\u001b[0m\u001b[0;34m:\u001b[0m\u001b[0;34m\u001b[0m\u001b[0;34m\u001b[0m\u001b[0m\n",
      "\u001b[0;32mpandas/_libs/index.pyx\u001b[0m in \u001b[0;36mpandas._libs.index.IndexEngine.get_loc\u001b[0;34m()\u001b[0m\n",
      "\u001b[0;32mpandas/_libs/index.pyx\u001b[0m in \u001b[0;36mpandas._libs.index.IndexEngine.get_loc\u001b[0;34m()\u001b[0m\n",
      "\u001b[0;32mpandas/_libs/hashtable_class_helper.pxi\u001b[0m in \u001b[0;36mpandas._libs.hashtable.PyObjectHashTable.get_item\u001b[0;34m()\u001b[0m\n",
      "\u001b[0;32mpandas/_libs/hashtable_class_helper.pxi\u001b[0m in \u001b[0;36mpandas._libs.hashtable.PyObjectHashTable.get_item\u001b[0;34m()\u001b[0m\n",
      "\u001b[0;31mKeyError\u001b[0m: 'f'"
     ]
    }
   ],
   "source": [
    "\n",
    "\n",
    "#target pmax/f\n",
    "pmax = np.array(features['f'])\n",
    "#Remove labels from the features\n",
    "features = features.drop('f', axis = 1)\n",
    "feature_list = list(features.columns)\n",
    "features = StandardScaler().fit_transform(features)\n",
    "#pca = PCA(n_components = 11)\n",
    "#principalComponents = pca.fit_transform(features)\n",
    "#features = pd.DataFrame(data = principalComponents, columns = ['pc1', 'pc2','pc3','pc4','pc5','pc6','pc7','pc8','pc9','pc10','pc11'])\n",
    "#display(features)\n",
    "#print(pca.explained_variance_ratio_.cumsum())\n",
    "\n",
    "#Covert to numpy arrays\n",
    "features = np.array(features)\n",
    "\n",
    "\n",
    "\n",
    "#print(features)\n",
    "print_shape(features)"
   ]
  },
  {
   "cell_type": "code",
   "execution_count": null,
   "metadata": {},
   "outputs": [],
   "source": [
    "#split the data into training set and testing set \n",
    "train_features, test_features, train_labels, test_labels = train_test_split(features, pmax, test_size = 0.25, random_state = 42)"
   ]
  },
  {
   "cell_type": "code",
   "execution_count": 25,
   "metadata": {},
   "outputs": [
    {
     "name": "stdout",
     "output_type": "stream",
     "text": [
      "Training Features Shape: (132, 16)\n",
      "Training Labels Shape: (132,)\n",
      "Testing Features Shape: (45, 16)\n",
      "Testing Labels Shape: (45,)\n"
     ]
    }
   ],
   "source": [
    "print('Training Features Shape:', train_features.shape)\n",
    "print('Training Labels Shape:', train_labels.shape)\n",
    "print('Testing Features Shape:', test_features.shape)\n",
    "print('Testing Labels Shape:', test_labels.shape)"
   ]
  },
  {
   "cell_type": "code",
   "execution_count": 26,
   "metadata": {},
   "outputs": [],
   "source": [
    "#Establish Baseline"
   ]
  },
  {
   "cell_type": "code",
   "execution_count": 27,
   "metadata": {},
   "outputs": [
    {
     "data": {
      "text/plain": [
       "RandomForestRegressor(n_estimators=1000, random_state=42)"
      ]
     },
     "execution_count": 27,
     "metadata": {},
     "output_type": "execute_result"
    }
   ],
   "source": [
    "#instantiate the model \n",
    "rf = RandomForestRegressor(n_estimators = 1000, random_state = 42)\n",
    "# n_estimator is lambda\n",
    "# use cross validation to optimize the n_estimators \n",
    "# use k_fold\n",
    "#change the n_estimator to discover the difference \n",
    "#SVM, SVR, knernel RBF, logistic regression, naive base (compare between gernerateive method and discrimitive method)\n",
    "#ensemble method(random bagging)\n",
    "#plot those regression\n",
    "#PCA Get the result (visualize it)\n",
    "# --> classfication using high value, mid value, low value\n",
    "#train the model on training data\n",
    "\n",
    "#cumulate the features to see the result\n",
    "rf.fit(train_features, train_labels)"
   ]
  },
  {
   "cell_type": "code",
   "execution_count": 28,
   "metadata": {},
   "outputs": [
    {
     "name": "stdout",
     "output_type": "stream",
     "text": [
      "Mean Absolute Error: 0.03797\n"
     ]
    }
   ],
   "source": [
    "import math\n",
    "#Make Predictions\n",
    "#Use the forest's predict method on the test data \n",
    "predictions = rf.predict(test_features)\n",
    "\n",
    "#Calculate the absolute errors\n",
    "errors = abs(predictions - test_labels)\n",
    "\n",
    "mean_absolute_error = mean_absolute_error(test_labels, predictions)\n",
    "\n",
    "\n",
    "\n",
    "#print out the mean absolute error\n",
    "print('Mean Absolute Error:', round(mean_absolute_error, 5))"
   ]
  },
  {
   "cell_type": "code",
   "execution_count": 1280,
   "metadata": {},
   "outputs": [
    {
     "name": "stdout",
     "output_type": "stream",
     "text": [
      "Mean Square Error:  0.05275\n"
     ]
    }
   ],
   "source": [
    "mean_square_error = mean_squared_error(test_labels, predictions, squared=False)\n",
    "\n",
    "print(\"Mean Square Error: \", round(mean_square_error, 5))"
   ]
  },
  {
   "cell_type": "code",
   "execution_count": 1281,
   "metadata": {},
   "outputs": [
    {
     "name": "stdout",
     "output_type": "stream",
     "text": [
      "Explained variance score:  0.8863779\n"
     ]
    }
   ],
   "source": [
    "explained_variance_score = explained_variance_score(test_labels, predictions)\n",
    "\n",
    "print(\"Explained variance score: \", round(explained_variance_score, 7))"
   ]
  },
  {
   "cell_type": "code",
   "execution_count": null,
   "metadata": {},
   "outputs": [],
   "source": []
  },
  {
   "cell_type": "code",
   "execution_count": null,
   "metadata": {},
   "outputs": [],
   "source": []
  },
  {
   "cell_type": "code",
   "execution_count": 669,
   "metadata": {},
   "outputs": [],
   "source": [
    "#from sklearn.tree import export_graphviz\n",
    "#import pydot"
   ]
  },
  {
   "cell_type": "code",
   "execution_count": 502,
   "metadata": {},
   "outputs": [],
   "source": [
    "#tree = rf.estimators_[5]\n",
    "#export_graphviz(tree, out_file = \"tree.dot\", feature_names = feature_list, rounded = True, precision = 1)\n",
    "#(graph, ) = pydot.graph_from_dot_file(\"tree.dot\")\n",
    "#graph.write_png(\"tree.png\")"
   ]
  },
  {
   "cell_type": "markdown",
   "metadata": {},
   "source": [
    "## Kernel RBF"
   ]
  },
  {
   "cell_type": "code",
   "execution_count": 79,
   "metadata": {},
   "outputs": [
    {
     "name": "stdout",
     "output_type": "stream",
     "text": [
      "0.8346516102871083\n"
     ]
    },
    {
     "name": "stderr",
     "output_type": "stream",
     "text": [
      "//anaconda3/lib/python3.7/site-packages/sklearn/svm/base.py:193: FutureWarning: The default value of gamma will change from 'auto' to 'scale' in version 0.22 to account better for unscaled features. Set gamma explicitly to 'auto' or 'scale' to avoid this warning.\n",
      "  \"avoid this warning.\", FutureWarning)\n"
     ]
    }
   ],
   "source": [
    "#kernel (rbf)\n",
    "clf = svm.SVR(kernel = \"rbf\")\n",
    "clf.fit(train_features,train_labels)\n",
    "print(clf.score(train_features, train_labels))"
   ]
  },
  {
   "cell_type": "code",
   "execution_count": 80,
   "metadata": {},
   "outputs": [
    {
     "name": "stdout",
     "output_type": "stream",
     "text": [
      "Model: 0.8331319308659725, Actual: 0.933933933933934\n",
      "Model: 0.5318553619630471, Actual: 0.4904904904904905\n",
      "Model: 0.8716322541153154, Actual: 0.947947947947948\n",
      "Model: 0.5347766842024957, Actual: 0.5295295295295295\n",
      "Model: 0.9320030233089158, Actual: 1.0\n",
      "Model: 0.8325144261122042, Actual: 0.7677677677677678\n",
      "Model: 0.8691317059268557, Actual: 0.8658658658658659\n",
      "Model: 0.5827624567921297, Actual: 0.5935935935935935\n",
      "Model: 0.6763077772327766, Actual: 0.4924924924924925\n",
      "Model: 0.879608826324751, Actual: 1.0\n",
      "Model: 0.7269150801120968, Actual: 0.6636636636636637\n",
      "Model: 0.785911501460733, Actual: 0.8028028028028028\n",
      "Model: 0.8418132718998405, Actual: 0.943943943943944\n",
      "Model: 0.7810788180417517, Actual: 0.7137137137137137\n",
      "Model: 0.8806129842701061, Actual: 0.8438438438438438\n",
      "Model: 0.8688544425343977, Actual: 1.0\n",
      "Model: 0.9228303314523307, Actual: 1.0\n",
      "Model: 0.6654343218014926, Actual: 0.7617617617617618\n",
      "Model: 0.7723801028195016, Actual: 0.7727727727727728\n",
      "Model: 0.883831021978888, Actual: 1.0\n",
      "Model: 0.754738938278391, Actual: 0.7227227227227228\n",
      "Model: 0.8153232110467595, Actual: 0.8758758758758759\n",
      "Model: 0.8153985719807897, Actual: 0.947947947947948\n",
      "Model: 0.7383854885084885, Actual: 0.8188188188188188\n",
      "Model: 0.655572886248448, Actual: 0.7607607607607607\n",
      "Model: 0.7707590879269867, Actual: 0.7957957957957958\n",
      "Model: 0.8739780660908988, Actual: 1.0\n",
      "Model: 0.8117998720679362, Actual: 0.8778778778778779\n",
      "Model: 0.7221685784836536, Actual: 0.7897897897897898\n",
      "Model: 0.9695394781514923, Actual: 0.9349349349349352\n",
      "Model: 0.6521108999898013, Actual: 0.6506506506506506\n",
      "Model: 0.9410698171755525, Actual: 1.0\n",
      "Model: 0.920094394163385, Actual: 1.0\n",
      "Model: 0.9201894114111167, Actual: 0.943943943943944\n",
      "Model: 0.5588880993704828, Actual: 0.5365365365365365\n",
      "Model: 0.8457866031174915, Actual: 0.9689689689689692\n",
      "Model: 0.9073397930084917, Actual: 1.0\n",
      "Model: 0.7647794154708477, Actual: 0.6576576576576577\n",
      "Model: 0.8214775108591831, Actual: 0.8368368368368369\n",
      "Model: 0.9280231110704531, Actual: 1.0\n",
      "Model: 0.7687251318052593, Actual: 0.6536536536536537\n",
      "Model: 0.9278454327014141, Actual: 0.9459459459459459\n",
      "Model: 0.6431341458627351, Actual: 0.7257257257257257\n",
      "Model: 0.9466386763509753, Actual: 1.0\n",
      "Model: 0.8938669687246251, Actual: 1.0\n",
      "Mean Absolute error: 0.07 newton.\n",
      "Accuracy: 91.43 %.\n"
     ]
    }
   ],
   "source": [
    "\n",
    "errors = 0\n",
    "for X,y in zip(test_features, test_labels):\n",
    "    print(f\"Model: {clf.predict([X])[0]}, Actual: {y}\")\n",
    "    errors += abs(clf.predict([X])[0] - y)\n",
    "errors = errors / test_features.shape[0]\n",
    "\n",
    "print('Mean Absolute error:',round(errors, 2) , 'newton.')\n",
    "\n",
    "# Calculate mean absolute percentage error\n",
    "mape = 100 * (errors / test_labels)\n",
    "\n",
    "# Calculate and display accuracy\n",
    "accuracy = 100 - np.mean(mape)\n",
    "print('Accuracy:', round(accuracy, 2), '%.')\n",
    "\n"
   ]
  },
  {
   "cell_type": "markdown",
   "metadata": {},
   "source": [
    "## Kernel Polynomial"
   ]
  },
  {
   "cell_type": "code",
   "execution_count": 81,
   "metadata": {},
   "outputs": [
    {
     "name": "stdout",
     "output_type": "stream",
     "text": [
      "0.7903953583908736\n"
     ]
    },
    {
     "name": "stderr",
     "output_type": "stream",
     "text": [
      "//anaconda3/lib/python3.7/site-packages/sklearn/svm/base.py:193: FutureWarning: The default value of gamma will change from 'auto' to 'scale' in version 0.22 to account better for unscaled features. Set gamma explicitly to 'auto' or 'scale' to avoid this warning.\n",
      "  \"avoid this warning.\", FutureWarning)\n"
     ]
    }
   ],
   "source": [
    "clf = svm.SVR(kernel = \"poly\", degree = 3)\n",
    "clf.fit(train_features,train_labels)\n",
    "print(clf.score(train_features, train_labels))"
   ]
  },
  {
   "cell_type": "code",
   "execution_count": 19,
   "metadata": {},
   "outputs": [
    {
     "name": "stdout",
     "output_type": "stream",
     "text": [
      "Model: 0.8453792953186632, Actual: 0.933933933933934\n",
      "Model: 0.5143828763575473, Actual: 0.4904904904904905\n",
      "Model: 0.8374105591937121, Actual: 0.947947947947948\n",
      "Model: 0.5892406033282486, Actual: 0.5295295295295295\n",
      "Model: 0.9890917399749535, Actual: 1.0\n",
      "Model: 0.8150729144225136, Actual: 0.7677677677677678\n",
      "Model: 0.8111151268101853, Actual: 0.8658658658658659\n",
      "Model: 0.4589822319544345, Actual: 0.5935935935935935\n",
      "Model: 0.6901523965553845, Actual: 0.4924924924924925\n",
      "Model: 1.0227921922878416, Actual: 1.0\n",
      "Model: 0.6681396090122047, Actual: 0.6636636636636637\n",
      "Model: 0.8244713213729181, Actual: 0.8028028028028028\n",
      "Model: 0.8950494317483622, Actual: 0.943943943943944\n",
      "Model: 0.7622310882303607, Actual: 0.7137137137137137\n",
      "Model: 0.8181713083120117, Actual: 0.8438438438438438\n",
      "Model: 1.047605928278367, Actual: 1.0\n",
      "Model: 0.9537691938797187, Actual: 1.0\n",
      "Model: 0.7764122853007435, Actual: 0.7617617617617618\n",
      "Model: 0.7737775778341033, Actual: 0.7727727727727728\n",
      "Model: 0.9665028744293883, Actual: 1.0\n",
      "Model: 0.8229879802827307, Actual: 0.7227227227227228\n",
      "Model: 0.8888717931373725, Actual: 0.8758758758758759\n",
      "Model: 0.8249773190776679, Actual: 0.947947947947948\n",
      "Model: 0.8300479061554529, Actual: 0.8188188188188188\n",
      "Model: 0.8383218524230318, Actual: 0.7607607607607607\n",
      "Model: 0.7819270131266797, Actual: 0.7957957957957958\n",
      "Model: 0.9329202260425619, Actual: 1.0\n",
      "Model: 0.8713962381957208, Actual: 0.8778778778778779\n",
      "Model: 0.8301882945768034, Actual: 0.7897897897897898\n",
      "Model: 0.9022275347602463, Actual: 0.9349349349349352\n",
      "Model: 0.744158281496291, Actual: 0.6506506506506506\n",
      "Model: 0.9575669169567711, Actual: 1.0\n",
      "Model: 0.907225067379026, Actual: 1.0\n",
      "Model: 0.8650055409674466, Actual: 0.943943943943944\n",
      "Model: 0.6129903767648106, Actual: 0.5365365365365365\n",
      "Model: 0.8519704280390027, Actual: 0.9689689689689692\n",
      "Model: 0.9853353312804247, Actual: 1.0\n",
      "Model: 0.7818317284835151, Actual: 0.6576576576576577\n",
      "Model: 0.8112536571508481, Actual: 0.8368368368368369\n",
      "Model: 0.8939176946962495, Actual: 1.0\n",
      "Model: 0.7992104598961824, Actual: 0.6536536536536537\n",
      "Model: 0.8993722569947404, Actual: 0.9459459459459459\n",
      "Model: 0.7442083416764411, Actual: 0.7257257257257257\n",
      "Model: 1.0606807732532515, Actual: 1.0\n",
      "Model: 0.9319287100842387, Actual: 1.0\n",
      "Mean Absolute error: 0.06 newton.\n",
      "Accuracy: 92.67 %.\n"
     ]
    }
   ],
   "source": [
    "errors = 0\n",
    "for X,y in zip(test_features, test_labels):\n",
    "    print(f\"Model: {clf.predict([X])[0]}, Actual: {y}\")\n",
    "    errors += abs(clf.predict([X])[0] - y)\n",
    "errors = errors / test_features.shape[0]\n",
    "\n",
    "print('Mean Absolute error:',round(errors, 2) , 'newton.')\n",
    "\n",
    "# Calculate mean absolute percentage error\n",
    "mape = 100 * (errors / test_labels)\n",
    "\n",
    "# Calculate and display accuracy\n",
    "accuracy = 100 - np.mean(mape)\n",
    "print('Accuracy:', round(accuracy, 2), '%.')\n"
   ]
  },
  {
   "cell_type": "markdown",
   "metadata": {},
   "source": [
    "## Kernel Linear"
   ]
  },
  {
   "cell_type": "code",
   "execution_count": 20,
   "metadata": {},
   "outputs": [
    {
     "name": "stdout",
     "output_type": "stream",
     "text": [
      "0.8193209757551584\n"
     ]
    }
   ],
   "source": [
    "clf = svm.SVR(kernel = \"linear\")\n",
    "clf.fit(train_features,train_labels)\n",
    "print(clf.score(train_features, train_labels))"
   ]
  },
  {
   "cell_type": "code",
   "execution_count": 21,
   "metadata": {},
   "outputs": [
    {
     "name": "stdout",
     "output_type": "stream",
     "text": [
      "Model: 0.944404702128944, Actual: 0.933933933933934\n",
      "Model: 0.5516939082310507, Actual: 0.4904904904904905\n",
      "Model: 0.8857724351683326, Actual: 0.947947947947948\n",
      "Model: 0.5588487577956097, Actual: 0.5295295295295295\n",
      "Model: 1.1327405574011276, Actual: 1.0\n",
      "Model: 0.8073579212838075, Actual: 0.7677677677677678\n",
      "Model: 0.8848744520811332, Actual: 0.8658658658658659\n",
      "Model: 0.5186369603316624, Actual: 0.5935935935935935\n",
      "Model: 0.7300538158640458, Actual: 0.4924924924924925\n",
      "Model: 1.0403633824378318, Actual: 1.0\n",
      "Model: 0.6423652648149581, Actual: 0.6636636636636637\n",
      "Model: 0.8270053225431713, Actual: 0.8028028028028028\n",
      "Model: 0.9522141461385761, Actual: 0.943943943943944\n",
      "Model: 0.7207783791985795, Actual: 0.7137137137137137\n",
      "Model: 0.8879246608009105, Actual: 0.8438438438438438\n",
      "Model: 1.0453625303724117, Actual: 1.0\n",
      "Model: 1.0571910669693563, Actual: 1.0\n",
      "Model: 0.6732581461162842, Actual: 0.7617617617617618\n",
      "Model: 0.724655777646919, Actual: 0.7727727727727728\n",
      "Model: 0.995053163944582, Actual: 1.0\n",
      "Model: 0.7416329101151052, Actual: 0.7227227227227228\n",
      "Model: 0.978493617890089, Actual: 0.8758758758758759\n",
      "Model: 0.8200679089292467, Actual: 0.947947947947948\n",
      "Model: 0.7678570893257165, Actual: 0.8188188188188188\n",
      "Model: 0.7504675171776384, Actual: 0.7607607607607607\n",
      "Model: 0.7112866958402225, Actual: 0.7957957957957958\n",
      "Model: 0.9102120703296374, Actual: 1.0\n",
      "Model: 0.9532906229110896, Actual: 0.8778778778778779\n",
      "Model: 0.7445162518914737, Actual: 0.7897897897897898\n",
      "Model: 1.0493318825129996, Actual: 0.9349349349349352\n",
      "Model: 0.6413051899886605, Actual: 0.6506506506506506\n",
      "Model: 1.0582218288919312, Actual: 1.0\n",
      "Model: 0.9786454997307599, Actual: 1.0\n",
      "Model: 0.9575907156162139, Actual: 0.943943943943944\n",
      "Model: 0.5673144967740585, Actual: 0.5365365365365365\n",
      "Model: 0.9651078745888864, Actual: 0.9689689689689692\n",
      "Model: 0.9981884131846429, Actual: 1.0\n",
      "Model: 0.712305600117889, Actual: 0.6576576576576577\n",
      "Model: 0.8849498813949773, Actual: 0.8368368368368369\n",
      "Model: 0.977936940554276, Actual: 1.0\n",
      "Model: 0.7281969770509035, Actual: 0.6536536536536537\n",
      "Model: 1.0469422619449809, Actual: 0.9459459459459459\n",
      "Model: 0.6175563719159319, Actual: 0.7257257257257257\n",
      "Model: 1.1372812074871388, Actual: 1.0\n",
      "Model: 0.9875745385690343, Actual: 1.0\n",
      "Mean Absolute error: 0.05 newton.\n",
      "Accuracy: 93.13 %.\n"
     ]
    }
   ],
   "source": [
    "errors = 0\n",
    "for X,y in zip(test_features, test_labels):\n",
    "    print(f\"Model: {clf.predict([X])[0]}, Actual: {y}\")\n",
    "    errors += abs(clf.predict([X])[0] - y)\n",
    "errors = errors / test_features.shape[0]\n",
    "\n",
    "print('Mean Absolute error:',round(errors, 2) , 'newton.')\n",
    "\n",
    "# Calculate mean absolute percentage error\n",
    "mape = 100 * (errors / test_labels)\n",
    "\n",
    "# Calculate and display accuracy\n",
    "accuracy = 100 - np.mean(mape)\n",
    "print('Accuracy:', round(accuracy, 2), '%.')\n"
   ]
  },
  {
   "cell_type": "markdown",
   "metadata": {},
   "source": [
    "## Linear Regression"
   ]
  },
  {
   "cell_type": "code",
   "execution_count": 22,
   "metadata": {},
   "outputs": [
    {
     "data": {
      "text/plain": [
       "Ridge(alpha=1.0, copy_X=True, fit_intercept=True, max_iter=None,\n",
       "      normalize=False, random_state=None, solver='auto', tol=0.001)"
      ]
     },
     "execution_count": 22,
     "metadata": {},
     "output_type": "execute_result"
    }
   ],
   "source": [
    "reg = linear_model.Ridge()\n",
    "reg.fit(train_features, train_labels)"
   ]
  },
  {
   "cell_type": "code",
   "execution_count": 23,
   "metadata": {},
   "outputs": [
    {
     "data": {
      "text/plain": [
       "array([ 0.03737859, -0.02767442,  0.00147585, -0.05415995, -0.12139303,\n",
       "       -0.01669328,  0.02018646])"
      ]
     },
     "execution_count": 23,
     "metadata": {},
     "output_type": "execute_result"
    }
   ],
   "source": [
    "reg.coef_"
   ]
  },
  {
   "cell_type": "code",
   "execution_count": 24,
   "metadata": {},
   "outputs": [],
   "source": [
    "a = reg.predict(test_features)"
   ]
  },
  {
   "cell_type": "code",
   "execution_count": 25,
   "metadata": {},
   "outputs": [
    {
     "data": {
      "text/plain": [
       "array([0.92343665, 0.57289554, 0.88051428, 0.6185316 , 1.08772326,\n",
       "       0.82061218, 0.86988252, 0.54353425, 0.74359451, 1.03385246,\n",
       "       0.65751762, 0.82371788, 0.92725092, 0.72107369, 0.87225205,\n",
       "       1.03769952, 1.03468469, 0.68449076, 0.72417768, 0.9993246 ,\n",
       "       0.78215024, 0.968438  , 0.84158184, 0.77433828, 0.75760516,\n",
       "       0.7174791 , 0.92916442, 0.94554227, 0.75339931, 1.02407207,\n",
       "       0.67184933, 1.03758029, 0.98691722, 0.91599653, 0.62426502,\n",
       "       0.9441203 , 1.00133189, 0.71908492, 0.8699534 , 0.98010423,\n",
       "       0.7720038 , 1.02233661, 0.63805486, 1.08260663, 0.99374708])"
      ]
     },
     "execution_count": 25,
     "metadata": {},
     "output_type": "execute_result"
    }
   ],
   "source": [
    "a"
   ]
  },
  {
   "cell_type": "code",
   "execution_count": 26,
   "metadata": {},
   "outputs": [
    {
     "data": {
      "text/plain": [
       "array([0.93393393, 0.49049049, 0.94794795, 0.52952953, 1.        ,\n",
       "       0.76776777, 0.86586587, 0.59359359, 0.49249249, 1.        ,\n",
       "       0.66366366, 0.8028028 , 0.94394394, 0.71371371, 0.84384384,\n",
       "       1.        , 1.        , 0.76176176, 0.77277277, 1.        ,\n",
       "       0.72272272, 0.87587588, 0.94794795, 0.81881882, 0.76076076,\n",
       "       0.7957958 , 1.        , 0.87787788, 0.78978979, 0.93493493,\n",
       "       0.65065065, 1.        , 1.        , 0.94394394, 0.53653654,\n",
       "       0.96896897, 1.        , 0.65765766, 0.83683684, 1.        ,\n",
       "       0.65365365, 0.94594595, 0.72572573, 1.        , 1.        ])"
      ]
     },
     "execution_count": 26,
     "metadata": {},
     "output_type": "execute_result"
    }
   ],
   "source": [
    "test_labels"
   ]
  },
  {
   "cell_type": "code",
   "execution_count": 27,
   "metadata": {},
   "outputs": [
    {
     "name": "stdout",
     "output_type": "stream",
     "text": [
      "Mean Absolute error: 0.05 newton.\n"
     ]
    }
   ],
   "source": [
    "np.mean(abs(test_labels - a))\n",
    "print('Mean Absolute error:',round(errors, 2) , 'newton.')"
   ]
  },
  {
   "cell_type": "code",
   "execution_count": 28,
   "metadata": {},
   "outputs": [
    {
     "name": "stdout",
     "output_type": "stream",
     "text": [
      "Accuracy: 93.13 %.\n"
     ]
    }
   ],
   "source": [
    "# Calculate mean absolute percentage error\n",
    "mape = 100 * (errors / test_labels)\n",
    "\n",
    "# Calculate and display accuracy\n",
    "accuracy = 100 - np.mean(mape)\n",
    "print('Accuracy:', round(accuracy, 2), '%.')\n"
   ]
  },
  {
   "cell_type": "markdown",
   "metadata": {},
   "source": [
    "## Logistic Regression"
   ]
  },
  {
   "cell_type": "code",
   "execution_count": 29,
   "metadata": {},
   "outputs": [
    {
     "name": "stdout",
     "output_type": "stream",
     "text": [
      "-365.90866363042005\n"
     ]
    },
    {
     "name": "stderr",
     "output_type": "stream",
     "text": [
      "//anaconda3/lib/python3.7/site-packages/sklearn/svm/base.py:193: FutureWarning: The default value of gamma will change from 'auto' to 'scale' in version 0.22 to account better for unscaled features. Set gamma explicitly to 'auto' or 'scale' to avoid this warning.\n",
      "  \"avoid this warning.\", FutureWarning)\n"
     ]
    }
   ],
   "source": [
    "clf = svm.SVR(kernel = \"sigmoid\")\n",
    "clf.fit(train_features,train_labels)\n",
    "print(clf.score(train_features, train_labels))"
   ]
  },
  {
   "cell_type": "code",
   "execution_count": 30,
   "metadata": {},
   "outputs": [
    {
     "name": "stdout",
     "output_type": "stream",
     "text": [
      "Model: 0.3861323400847584, Actual: 0.933933933933934\n",
      "Model: 0.003346192773395318, Actual: 0.4904904904904905\n",
      "Model: 1.5990067921806537, Actual: 0.947947947947948\n",
      "Model: 0.8304720502621633, Actual: 0.5295295295295295\n",
      "Model: 0.6353471885434177, Actual: 1.0\n",
      "Model: 0.9712740272257401, Actual: 0.7677677677677678\n",
      "Model: 0.7125096049267523, Actual: 0.8658658658658659\n",
      "Model: 3.4655914067931626, Actual: 0.5935935935935935\n",
      "Model: 1.2276123430367845, Actual: 0.4924924924924925\n",
      "Model: 2.5485954407151405, Actual: 1.0\n",
      "Model: -0.2738867278427799, Actual: 0.6636636636636637\n",
      "Model: -0.042121437011382046, Actual: 0.8028028028028028\n",
      "Model: 0.7011221412445435, Actual: 0.943943943943944\n",
      "Model: 1.7985155215567938, Actual: 0.7137137137137137\n",
      "Model: 0.6311527040115383, Actual: 0.8438438438438438\n",
      "Model: 2.4247064583013875, Actual: 1.0\n",
      "Model: 3.344050177236509, Actual: 1.0\n",
      "Model: -0.005009237754830087, Actual: 0.7617617617617618\n",
      "Model: 1.5942209367922526, Actual: 0.7727727727727728\n",
      "Model: -1.0699748243365488, Actual: 1.0\n",
      "Model: 1.639851847255002, Actual: 0.7227227227227228\n",
      "Model: 3.003170755340859, Actual: 0.8758758758758759\n",
      "Model: 2.860482506317477, Actual: 0.947947947947948\n",
      "Model: 1.4218946331418123, Actual: 0.8188188188188188\n",
      "Model: 1.4247870717084274, Actual: 0.7607607607607607\n",
      "Model: 0.29827836532790775, Actual: 0.7957957957957958\n",
      "Model: -3.127036597355291, Actual: 1.0\n",
      "Model: 2.905303491407034, Actual: 0.8778778778778779\n",
      "Model: 1.2633581729427323, Actual: 0.7897897897897898\n",
      "Model: 1.987497912243903, Actual: 0.9349349349349352\n",
      "Model: 0.6010685994016703, Actual: 0.6506506506506506\n",
      "Model: 3.3867472690989215, Actual: 1.0\n",
      "Model: 2.0807251500529134, Actual: 1.0\n",
      "Model: 0.71217038153364, Actual: 0.943943943943944\n",
      "Model: 0.5368386524900474, Actual: 0.5365365365365365\n",
      "Model: 0.6649503183104737, Actual: 0.9689689689689692\n",
      "Model: -1.3699271685374936, Actual: 1.0\n",
      "Model: 0.27382173206355054, Actual: 0.6576576576576577\n",
      "Model: 0.7101276639026548, Actual: 0.8368368368368369\n",
      "Model: 1.3647733091332714, Actual: 1.0\n",
      "Model: 1.5788546581746428, Actual: 0.6536536536536537\n",
      "Model: 1.8569930336246658, Actual: 0.9459459459459459\n",
      "Model: -1.0102654429454885, Actual: 0.7257257257257257\n",
      "Model: 2.8967154862249185, Actual: 1.0\n",
      "Model: -0.4635785399456367, Actual: 1.0\n",
      "Mean Absolute error: 1.05 newton.\n",
      "[0.3861323400847584, 0.003346192773395318, 1.5990067921806537, 0.8304720502621633, 0.6353471885434177, 0.9712740272257401, 0.7125096049267523, 3.4655914067931626, 1.2276123430367845, 2.5485954407151405, -0.2738867278427799, -0.042121437011382046, 0.7011221412445435, 1.7985155215567938, 0.6311527040115383, 2.4247064583013875, 3.344050177236509, -0.005009237754830087, 1.5942209367922526, -1.0699748243365488, 1.639851847255002, 3.003170755340859, 2.860482506317477, 1.4218946331418123, 1.4247870717084274, 0.29827836532790775, -3.127036597355291, 2.905303491407034, 1.2633581729427323, 1.987497912243903, 0.6010685994016703, 3.3867472690989215, 2.0807251500529134, 0.71217038153364, 0.5368386524900474, 0.6649503183104737, -1.3699271685374936, 0.27382173206355054, 0.7101276639026548, 1.3647733091332714, 1.5788546581746428, 1.8569930336246658, -1.0102654429454885, 2.8967154862249185, -0.4635785399456367]\n",
      "Accuracy: -31.24 %.\n"
     ]
    }
   ],
   "source": [
    "errors = 0\n",
    "pred_pmax = []\n",
    "for X,y in zip(test_features, test_labels):\n",
    "    print(f\"Model: {clf.predict([X])[0]}, Actual: {y}\")\n",
    "    errors += abs(clf.predict([X])[0] - y)\n",
    "    pred_pmax.append(clf.predict([X])[0])\n",
    "errors = errors / test_features.shape[0]\n",
    "\n",
    "print('Mean Absolute error:',round(errors, 2) , 'newton.')\n",
    "print(pred_pmax)\n",
    "# Calculate mean absolute percentage error\n",
    "mape = 100 * (errors / test_labels)\n",
    "\n",
    "# Calculate and display accuracy\n",
    "accuracy = 100 - np.mean(mape)\n",
    "print('Accuracy:', round(accuracy, 2), '%.')\n"
   ]
  }
 ],
 "metadata": {
  "kernelspec": {
   "display_name": "Python 3",
   "language": "python",
   "name": "python3"
  },
  "language_info": {
   "codemirror_mode": {
    "name": "ipython",
    "version": 3
   },
   "file_extension": ".py",
   "mimetype": "text/x-python",
   "name": "python",
   "nbconvert_exporter": "python",
   "pygments_lexer": "ipython3",
   "version": "3.7.3"
  }
 },
 "nbformat": 4,
 "nbformat_minor": 2
}
