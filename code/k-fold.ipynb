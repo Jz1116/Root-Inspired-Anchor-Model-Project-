{
 "cells": [
  {
   "cell_type": "code",
   "execution_count": 126,
   "metadata": {},
   "outputs": [],
   "source": [
    "import pandas as pd\n",
    "from pandas import DataFrame\n",
    "from pandas.plotting import radviz\n",
    "import matplotlib.pyplot as plt\n",
    "import numpy as np\n",
    "from sklearn.model_selection import train_test_split\n",
    "#import the model we are using\n",
    "from sklearn.ensemble import RandomForestRegressor\n",
    "from sklearn import svm, preprocessing\n",
    "from sklearn.decomposition import PCA\n",
    "from sklearn.preprocessing import StandardScaler\n",
    "from sklearn import linear_model\n",
    "from sklearn.ensemble import BaggingClassifier\n",
    "from sklearn.tree import DecisionTreeClassifier\n",
    "from sklearn.linear_model import Perceptron"
   ]
  },
  {
   "cell_type": "code",
   "execution_count": 127,
   "metadata": {},
   "outputs": [
    {
     "data": {
      "text/html": [
       "<div>\n",
       "<style scoped>\n",
       "    .dataframe tbody tr th:only-of-type {\n",
       "        vertical-align: middle;\n",
       "    }\n",
       "\n",
       "    .dataframe tbody tr th {\n",
       "        vertical-align: top;\n",
       "    }\n",
       "\n",
       "    .dataframe thead th {\n",
       "        text-align: right;\n",
       "    }\n",
       "</style>\n",
       "<table border=\"1\" class=\"dataframe\">\n",
       "  <thead>\n",
       "    <tr style=\"text-align: right;\">\n",
       "      <th></th>\n",
       "      <th>n [count]</th>\n",
       "      <th>H [mm]</th>\n",
       "      <th>b [mm]</th>\n",
       "      <th>d [mm]</th>\n",
       "      <th>γ [N/mm3]</th>\n",
       "      <th>Pmax [N]</th>\n",
       "      <th>P0 [N]</th>\n",
       "    </tr>\n",
       "  </thead>\n",
       "  <tbody>\n",
       "    <tr>\n",
       "      <th>0</th>\n",
       "      <td>3</td>\n",
       "      <td>90.0</td>\n",
       "      <td>19.4114</td>\n",
       "      <td>5.0</td>\n",
       "      <td>0.000016</td>\n",
       "      <td>9.080644</td>\n",
       "      <td>0.046939</td>\n",
       "    </tr>\n",
       "    <tr>\n",
       "      <th>1</th>\n",
       "      <td>3</td>\n",
       "      <td>90.0</td>\n",
       "      <td>12.9410</td>\n",
       "      <td>5.0</td>\n",
       "      <td>0.000016</td>\n",
       "      <td>8.758713</td>\n",
       "      <td>0.154249</td>\n",
       "    </tr>\n",
       "    <tr>\n",
       "      <th>2</th>\n",
       "      <td>6</td>\n",
       "      <td>90.0</td>\n",
       "      <td>19.4114</td>\n",
       "      <td>5.0</td>\n",
       "      <td>0.000016</td>\n",
       "      <td>11.753734</td>\n",
       "      <td>0.720029</td>\n",
       "    </tr>\n",
       "    <tr>\n",
       "      <th>3</th>\n",
       "      <td>6</td>\n",
       "      <td>90.0</td>\n",
       "      <td>12.9410</td>\n",
       "      <td>5.0</td>\n",
       "      <td>0.000016</td>\n",
       "      <td>10.797683</td>\n",
       "      <td>1.032218</td>\n",
       "    </tr>\n",
       "    <tr>\n",
       "      <th>4</th>\n",
       "      <td>F</td>\n",
       "      <td>90.0</td>\n",
       "      <td>19.4114</td>\n",
       "      <td>5.0</td>\n",
       "      <td>0.000016</td>\n",
       "      <td>14.095079</td>\n",
       "      <td>2.017568</td>\n",
       "    </tr>\n",
       "  </tbody>\n",
       "</table>\n",
       "</div>"
      ],
      "text/plain": [
       "  n [count]  H [mm]   b [mm]  d [mm]  γ [N/mm3]   Pmax [N]    P0 [N]\n",
       "0         3    90.0  19.4114     5.0   0.000016   9.080644  0.046939\n",
       "1         3    90.0  12.9410     5.0   0.000016   8.758713  0.154249\n",
       "2         6    90.0  19.4114     5.0   0.000016  11.753734  0.720029\n",
       "3         6    90.0  12.9410     5.0   0.000016  10.797683  1.032218\n",
       "4         F    90.0  19.4114     5.0   0.000016  14.095079  2.017568"
      ]
     },
     "execution_count": 127,
     "metadata": {},
     "output_type": "execute_result"
    }
   ],
   "source": [
    "def read(file):\n",
    "    return pd.read_csv(file)\n",
    "\n",
    "#features.set_index(['Index'], inplace = True)\n",
    "#features.drop(columns = ['Index'], inplace = True)\n",
    "\n",
    "features = read('unique_best_features.csv')\n",
    "features.head(5)"
   ]
  },
  {
   "cell_type": "code",
   "execution_count": 128,
   "metadata": {},
   "outputs": [
    {
     "name": "stdout",
     "output_type": "stream",
     "text": [
      "The shape of our feature is (177, 7)\n"
     ]
    }
   ],
   "source": [
    "def print_shape(data):\n",
    "    print(\"The shape of our feature is \" + str(data.shape))\n",
    "\n",
    "print_shape(features)"
   ]
  },
  {
   "cell_type": "code",
   "execution_count": 129,
   "metadata": {},
   "outputs": [
    {
     "data": {
      "text/plain": [
       "array(['n [count]', 'H [mm]', 'b [mm]', 'd [mm]', 'γ [N/mm3]', 'Pmax [N]',\n",
       "       'P0 [N]'], dtype=object)"
      ]
     },
     "execution_count": 129,
     "metadata": {},
     "output_type": "execute_result"
    }
   ],
   "source": [
    "#summary statistics\n",
    "features.describe()\n",
    "features.columns.values"
   ]
  },
  {
   "cell_type": "code",
   "execution_count": 130,
   "metadata": {},
   "outputs": [],
   "source": [
    "#pd.options.display.max_rows = 181\n",
    "pd.options.display.max_columns = 30\n",
    "#features.sort_values(by = \"L [mm]\", ascending = True, inplace = True)\n",
    "#display(features)"
   ]
  },
  {
   "cell_type": "code",
   "execution_count": 131,
   "metadata": {},
   "outputs": [],
   "source": [
    "#one hot encoding\n",
    "pd.options.display.max_columns = 181\n",
    "pd.options.display.max_rows = 181\n",
    "#features = pd.get_dummies(features, columns = ['n [count]', 'Material'])\n",
    "features = pd.get_dummies(features, columns = ['n [count]'])\n",
    "#features = pd.get_dummies(features, columns = ['Material'])\n",
    "#features.head(5)\n",
    "#display(features)\n",
    "#print_shape(features)"
   ]
  },
  {
   "cell_type": "code",
   "execution_count": 132,
   "metadata": {},
   "outputs": [
    {
     "name": "stdout",
     "output_type": "stream",
     "text": [
      "The shape of our feature is (177, 11)\n"
     ]
    }
   ],
   "source": [
    "#target pmax\n",
    "pmax = features['Pmax [N]']\n",
    "#Remove labels from the features\n",
    "features = features.drop('Pmax [N]', axis = 1)\n",
    "\n",
    "features = StandardScaler().fit_transform(features)\n",
    "\n",
    "#pca = PCA(n_components = 11)\n",
    "#principalComponents = pca.fit_transform(features)\n",
    "#features = pd.DataFrame(data = principalComponents, columns = ['pc1', 'pc2','pc3','pc4','pc5','pc6','pc7','pc8','pc9','pc10','pc11'])\n",
    "#display(features)\n",
    "#print(pca.explained_variance_ratio_.cumsum())\n",
    "\n",
    "#Covert to numpy arrays\n",
    "#features = np.array(features)\n",
    "\n",
    "\n",
    "\n",
    "#print(features)\n",
    "print_shape(features)"
   ]
  },
  {
   "cell_type": "code",
   "execution_count": 133,
   "metadata": {},
   "outputs": [],
   "source": [
    "#split the data into training set and testing set \n",
    "train_features, test_features, train_labels, test_labels = train_test_split(features, pmax, test_size = 0.25, random_state = 42)"
   ]
  },
  {
   "cell_type": "code",
   "execution_count": 134,
   "metadata": {},
   "outputs": [
    {
     "name": "stdout",
     "output_type": "stream",
     "text": [
      "Mean Absolute Error: 3.17 newton.\n",
      "Accuracy: 86.31 %.\n"
     ]
    }
   ],
   "source": [
    "rf = RandomForestRegressor(n_estimators = 281, random_state = 187)\n",
    "rf.fit(train_features, train_labels)\n",
    "#Make Predictions\n",
    "#Use the forest's predict method on the test data \n",
    "predictions = rf.predict(test_features)\n",
    "\n",
    "#Calculate the absolute errors\n",
    "errors = abs(predictions - test_labels)\n",
    "\n",
    "#print out the mean absolute error\n",
    "print('Mean Absolute Error:', round(np.mean(errors), 2), 'newton.')\n",
    "# Calculate mean absolute percentage error\n",
    "mape = 100 * (errors / test_labels)\n",
    "\n",
    "# Calculate and display accuracy\n",
    "accuracy = 100 - np.mean(mape)\n",
    "print('Accuracy:', round(accuracy, 2), '%.')"
   ]
  },
  {
   "cell_type": "code",
   "execution_count": 135,
   "metadata": {},
   "outputs": [
    {
     "name": "stdout",
     "output_type": "stream",
     "text": [
      "[0.90789051 0.89347768 0.68629347 0.78959391 0.80871435]\n",
      "Mean 10-fold R squared :0.8171939817072079\n"
     ]
    }
   ],
   "source": [
    "from sklearn.model_selection import cross_val_score\n",
    "from sklearn.model_selection import KFold\n",
    "cv_r2_scores_rf = cross_val_score(rf, features, pmax, cv = 5)\n",
    "print(cv_r2_scores_rf)\n",
    "print(\"Mean 10-fold R squared :{}\". format(np.mean(cv_r2_scores_rf)))"
   ]
  },
  {
   "cell_type": "code",
   "execution_count": 136,
   "metadata": {},
   "outputs": [],
   "source": [
    "number_of_splits = []\n",
    "mean_score = []"
   ]
  },
  {
   "cell_type": "code",
   "execution_count": 137,
   "metadata": {},
   "outputs": [
    {
     "name": "stdout",
     "output_type": "stream",
     "text": [
      "Scores from each Iteration:  [0.8403229142934318, 0.9186618424992383, 0.8810444091707715, 0.7758522585670311, 0.8809646305503906]\n",
      "Average K-Fold Score : 0.8593692110161726\n",
      "Scores from each Iteration:  [0.920290199676121, 0.8724894342387038, 0.9601458169773374, 0.8614232771386352, 0.8892912531251683]\n",
      "Average K-Fold Score : 0.900727996231193\n",
      "Scores from each Iteration:  [0.9452141785951228, 0.9152250537449285, 0.9155383232727017, 0.9136180952596473, 0.9271781814440578]\n",
      "Average K-Fold Score : 0.9233547664632915\n"
     ]
    },
    {
     "name": "stderr",
     "output_type": "stream",
     "text": [
      "/Library/Frameworks/Python.framework/Versions/3.7/lib/python3.7/site-packages/sklearn/ensemble/forest.py:245: FutureWarning: The default value of n_estimators will change from 10 in version 0.20 to 100 in 0.22.\n",
      "  \"10 in version 0.20 to 100 in 0.22.\", FutureWarning)\n",
      "/Library/Frameworks/Python.framework/Versions/3.7/lib/python3.7/site-packages/sklearn/ensemble/forest.py:245: FutureWarning: The default value of n_estimators will change from 10 in version 0.20 to 100 in 0.22.\n",
      "  \"10 in version 0.20 to 100 in 0.22.\", FutureWarning)\n",
      "/Library/Frameworks/Python.framework/Versions/3.7/lib/python3.7/site-packages/sklearn/ensemble/forest.py:245: FutureWarning: The default value of n_estimators will change from 10 in version 0.20 to 100 in 0.22.\n",
      "  \"10 in version 0.20 to 100 in 0.22.\", FutureWarning)\n",
      "/Library/Frameworks/Python.framework/Versions/3.7/lib/python3.7/site-packages/sklearn/ensemble/forest.py:245: FutureWarning: The default value of n_estimators will change from 10 in version 0.20 to 100 in 0.22.\n",
      "  \"10 in version 0.20 to 100 in 0.22.\", FutureWarning)\n"
     ]
    },
    {
     "name": "stdout",
     "output_type": "stream",
     "text": [
      "Scores from each Iteration:  [0.8472630771576152, 0.8786047409886613, 0.8158876284780194, 0.9341257678981221, 0.9059421871130819]\n",
      "Average K-Fold Score : 0.8763646803270999\n",
      "Scores from each Iteration:  [0.9090169724231031, 0.9086657555320264, 0.8835195879033783, 0.8363703164438197, 0.9000523894575809]\n",
      "Average K-Fold Score : 0.8875250043519817\n",
      "Scores from each Iteration:  [0.9547311200347443, 0.9027724768821193, 0.8189942281238822, 0.9612918730778311, 0.8484887913176842]\n",
      "Average K-Fold Score : 0.8972556978872521\n",
      "Scores from each Iteration:  [0.9228937425421718, 0.9436901448331748, 0.8910312378213722, 0.9507245297491169, 0.8782740575611493]\n",
      "Average K-Fold Score : 0.917322742501397\n"
     ]
    },
    {
     "name": "stderr",
     "output_type": "stream",
     "text": [
      "/Library/Frameworks/Python.framework/Versions/3.7/lib/python3.7/site-packages/sklearn/ensemble/forest.py:245: FutureWarning: The default value of n_estimators will change from 10 in version 0.20 to 100 in 0.22.\n",
      "  \"10 in version 0.20 to 100 in 0.22.\", FutureWarning)\n",
      "/Library/Frameworks/Python.framework/Versions/3.7/lib/python3.7/site-packages/sklearn/ensemble/forest.py:245: FutureWarning: The default value of n_estimators will change from 10 in version 0.20 to 100 in 0.22.\n",
      "  \"10 in version 0.20 to 100 in 0.22.\", FutureWarning)\n",
      "/Library/Frameworks/Python.framework/Versions/3.7/lib/python3.7/site-packages/sklearn/ensemble/forest.py:245: FutureWarning: The default value of n_estimators will change from 10 in version 0.20 to 100 in 0.22.\n",
      "  \"10 in version 0.20 to 100 in 0.22.\", FutureWarning)\n",
      "/Library/Frameworks/Python.framework/Versions/3.7/lib/python3.7/site-packages/sklearn/ensemble/forest.py:245: FutureWarning: The default value of n_estimators will change from 10 in version 0.20 to 100 in 0.22.\n",
      "  \"10 in version 0.20 to 100 in 0.22.\", FutureWarning)\n"
     ]
    },
    {
     "name": "stdout",
     "output_type": "stream",
     "text": [
      "Scores from each Iteration:  [0.9331779910893617, 0.9484854718594363, 0.9354655324814846, 0.9008143896376519, 0.907948781672577]\n",
      "Average K-Fold Score : 0.9251784333481023\n",
      "Scores from each Iteration:  [0.9382025128318967, 0.8230182278231376, 0.9829826792848074, 0.827777673706334, 0.9180308075117942]\n",
      "Average K-Fold Score : 0.8980023802315941\n"
     ]
    },
    {
     "name": "stderr",
     "output_type": "stream",
     "text": [
      "/Library/Frameworks/Python.framework/Versions/3.7/lib/python3.7/site-packages/sklearn/ensemble/forest.py:245: FutureWarning: The default value of n_estimators will change from 10 in version 0.20 to 100 in 0.22.\n",
      "  \"10 in version 0.20 to 100 in 0.22.\", FutureWarning)\n"
     ]
    }
   ],
   "source": [
    "for j in range(2, 11):\n",
    "    kf = KFold(n_splits = j, shuffle = True)\n",
    "    rf_reg = RandomForestRegressor()\n",
    "    scores = []\n",
    "    for i in range(5):\n",
    "        result = next(kf.split(features), None)\n",
    "        x_train = pd.DataFrame(features).iloc[result[0]]\n",
    "        x_test = pd.DataFrame(features).iloc[result[1]]\n",
    "        y_train = pmax.iloc[result[0]]\n",
    "        y_test = pmax.iloc[result[1]]\n",
    "        model = rf_reg.fit(x_train,y_train)\n",
    "        predictions = rf_reg.predict(x_test)\n",
    "        scores.append(model.score(x_test,y_test))\n",
    "    print('Scores from each Iteration: ', scores)\n",
    "    number_of_splits.append(j)\n",
    "    print('Average K-Fold Score :' , np.mean(scores))\n",
    "    mean_score.append(np.mean(scores))"
   ]
  },
  {
   "cell_type": "code",
   "execution_count": 138,
   "metadata": {},
   "outputs": [
    {
     "name": "stdout",
     "output_type": "stream",
     "text": [
      "[2, 3, 4, 5, 6, 7, 8, 9, 10]\n",
      "[0.8593692110161726, 0.900727996231193, 0.9233547664632915, 0.8763646803270999, 0.8875250043519817, 0.8972556978872521, 0.917322742501397, 0.9251784333481023, 0.8980023802315941]\n"
     ]
    }
   ],
   "source": [
    "print(number_of_splits)\n",
    "print(mean_score)"
   ]
  },
  {
   "cell_type": "code",
   "execution_count": 139,
   "metadata": {},
   "outputs": [
    {
     "name": "stdout",
     "output_type": "stream",
     "text": [
      "   number of splits  mean classification score\n",
      "0                 2                   0.859369\n",
      "1                 3                   0.900728\n",
      "2                 4                   0.923355\n",
      "3                 5                   0.876365\n",
      "4                 6                   0.887525\n",
      "5                 7                   0.897256\n",
      "6                 8                   0.917323\n",
      "7                 9                   0.925178\n",
      "8                10                   0.898002\n",
      "0.898344545817565\n"
     ]
    }
   ],
   "source": [
    "k_fold = {'number of splits': number_of_splits, 'mean classification score': mean_score}\n",
    "df = DataFrame(k_fold, columns= ['number of splits', 'mean classification score'])\n",
    "print(df)\n",
    "print(np.mean(mean_score))"
   ]
  },
  {
   "cell_type": "code",
   "execution_count": 140,
   "metadata": {},
   "outputs": [],
   "source": [
    "export_csv = df.to_csv (r'/Users/zhenjiang/Desktop/cx4240/Project/export_dataframe.csv', index = None, header=True)"
   ]
  },
  {
   "cell_type": "code",
   "execution_count": 147,
   "metadata": {},
   "outputs": [],
   "source": [
    "import seaborn as sns"
   ]
  },
  {
   "cell_type": "code",
   "execution_count": 148,
   "metadata": {},
   "outputs": [
    {
     "data": {
      "image/png": "[encoded data removed]",
      "text/plain": [
       "<Figure size 432x288 with 1 Axes>"
      ]
     },
     "metadata": {},
     "output_type": "display_data"
    }
   ],
   "source": [
    "\n",
    "df = pd.read_csv(\"export_dataframe.csv\")\n",
    "sns.set_palette(\"husl\")\n",
    "sns.set_style('white')\n",
    "sns.set_style('ticks')\n",
    "ax = sns.lineplot(x=\"number of splits\", y= 'mean classification score', data= df )\n",
    "fig = ax.get_figure()\n",
    "fig.savefig(\"kfold.png\")"
   ]
  },
  {
   "cell_type": "code",
   "execution_count": null,
   "metadata": {},
   "outputs": [],
   "source": []
  },
  {
   "cell_type": "code",
   "execution_count": null,
   "metadata": {},
   "outputs": [],
   "source": []
  }
 ],
 "metadata": {
  "kernelspec": {
   "display_name": "Python 3",
   "language": "python",
   "name": "python3"
  },
  "language_info": {
   "codemirror_mode": {
    "name": "ipython",
    "version": 3
   },
   "file_extension": ".py",
   "mimetype": "text/x-python",
   "name": "python",
   "nbconvert_exporter": "python",
   "pygments_lexer": "ipython3",
   "version": "3.7.3"
  }
 },
 "nbformat": 4,
 "nbformat_minor": 2
}
