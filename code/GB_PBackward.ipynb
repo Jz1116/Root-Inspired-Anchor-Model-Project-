{
 "cells": [
  {
   "cell_type": "code",
   "execution_count": 14,
   "metadata": {},
   "outputs": [],
   "source": [
    "import pandas as pd\n",
    "from pandas.plotting import radviz\n",
    "import matplotlib.pyplot as plt\n",
    "import numpy as np\n",
    "from sklearn.model_selection import train_test_split\n",
    "#import the model we are using\n",
    "from sklearn.ensemble import RandomForestRegressor\n",
    "from sklearn import svm, preprocessing\n",
    "from sklearn.decomposition import PCA\n",
    "from sklearn.preprocessing import Normalizer, StandardScaler\n",
    "from sklearn import linear_model\n",
    "from sklearn.ensemble import BaggingClassifier, GradientBoostingRegressor\n",
    "from sklearn.tree import DecisionTreeClassifier\n",
    "from sklearn.metrics import mean_squared_error, mean_absolute_error, explained_variance_score"
   ]
  },
  {
   "cell_type": "code",
   "execution_count": 15,
   "metadata": {},
   "outputs": [
    {
     "data": {
      "text/html": [
       "<div>\n",
       "<style scoped>\n",
       "    .dataframe tbody tr th:only-of-type {\n",
       "        vertical-align: middle;\n",
       "    }\n",
       "\n",
       "    .dataframe tbody tr th {\n",
       "        vertical-align: top;\n",
       "    }\n",
       "\n",
       "    .dataframe thead th {\n",
       "        text-align: right;\n",
       "    }\n",
       "</style>\n",
       "<table border=\"1\" class=\"dataframe\">\n",
       "  <thead>\n",
       "    <tr style=\"text-align: right;\">\n",
       "      <th></th>\n",
       "      <th>α [°]</th>\n",
       "      <th>H [mm]</th>\n",
       "      <th>b [mm]</th>\n",
       "      <th>Ls [mm]</th>\n",
       "      <th>d [mm]</th>\n",
       "      <th>γ [N/mm3]</th>\n",
       "      <th>Pmax [N]</th>\n",
       "      <th>Vroot [mm3]</th>\n",
       "      <th>DR [ ]</th>\n",
       "    </tr>\n",
       "  </thead>\n",
       "  <tbody>\n",
       "    <tr>\n",
       "      <th>0</th>\n",
       "      <td>15</td>\n",
       "      <td>90.0</td>\n",
       "      <td>19.4114</td>\n",
       "      <td>17.555563</td>\n",
       "      <td>5.0</td>\n",
       "      <td>0.000016</td>\n",
       "      <td>9.080644</td>\n",
       "      <td>4534.350557</td>\n",
       "      <td>0.8</td>\n",
       "    </tr>\n",
       "    <tr>\n",
       "      <th>1</th>\n",
       "      <td>15</td>\n",
       "      <td>90.0</td>\n",
       "      <td>12.9410</td>\n",
       "      <td>41.703709</td>\n",
       "      <td>5.0</td>\n",
       "      <td>0.000016</td>\n",
       "      <td>8.758713</td>\n",
       "      <td>3535.876732</td>\n",
       "      <td>0.8</td>\n",
       "    </tr>\n",
       "    <tr>\n",
       "      <th>2</th>\n",
       "      <td>15</td>\n",
       "      <td>90.0</td>\n",
       "      <td>19.4114</td>\n",
       "      <td>17.555563</td>\n",
       "      <td>5.0</td>\n",
       "      <td>0.000016</td>\n",
       "      <td>11.753734</td>\n",
       "      <td>8267.564868</td>\n",
       "      <td>0.8</td>\n",
       "    </tr>\n",
       "    <tr>\n",
       "      <th>3</th>\n",
       "      <td>15</td>\n",
       "      <td>90.0</td>\n",
       "      <td>12.9410</td>\n",
       "      <td>41.703709</td>\n",
       "      <td>5.0</td>\n",
       "      <td>0.000016</td>\n",
       "      <td>10.797683</td>\n",
       "      <td>5796.469487</td>\n",
       "      <td>0.8</td>\n",
       "    </tr>\n",
       "    <tr>\n",
       "      <th>4</th>\n",
       "      <td>15</td>\n",
       "      <td>90.0</td>\n",
       "      <td>19.4114</td>\n",
       "      <td>17.555563</td>\n",
       "      <td>5.0</td>\n",
       "      <td>0.000016</td>\n",
       "      <td>14.095079</td>\n",
       "      <td>23281.011643</td>\n",
       "      <td>0.8</td>\n",
       "    </tr>\n",
       "  </tbody>\n",
       "</table>\n",
       "</div>"
      ],
      "text/plain": [
       "   α [°]  H [mm]   b [mm]    Ls [mm]  d [mm]  γ [N/mm3]   Pmax [N]  \\\n",
       "0     15    90.0  19.4114  17.555563     5.0   0.000016   9.080644   \n",
       "1     15    90.0  12.9410  41.703709     5.0   0.000016   8.758713   \n",
       "2     15    90.0  19.4114  17.555563     5.0   0.000016  11.753734   \n",
       "3     15    90.0  12.9410  41.703709     5.0   0.000016  10.797683   \n",
       "4     15    90.0  19.4114  17.555563     5.0   0.000016  14.095079   \n",
       "\n",
       "    Vroot [mm3]  DR [ ]  \n",
       "0   4534.350557     0.8  \n",
       "1   3535.876732     0.8  \n",
       "2   8267.564868     0.8  \n",
       "3   5796.469487     0.8  \n",
       "4  23281.011643     0.8  "
      ]
     },
     "execution_count": 15,
     "metadata": {},
     "output_type": "execute_result"
    }
   ],
   "source": [
    "def read(file):\n",
    "    return pd.read_csv(file)\n",
    "\n",
    "#features.set_index(['Index'], inplace = True)\n",
    "#features.drop(columns = ['Index'], inplace = True)\n",
    "\n",
    "features = read('Pmax_backward_Final.csv')\n",
    "features.head(5)"
   ]
  },
  {
   "cell_type": "code",
   "execution_count": 16,
   "metadata": {},
   "outputs": [
    {
     "data": {
      "text/plain": [
       "array(['α [°]', 'H [mm]', 'b [mm]', 'Ls [mm]', 'd [mm]', 'γ [N/mm3]',\n",
       "       'Pmax [N]', 'Vroot [mm3]', 'DR [ ]'], dtype=object)"
      ]
     },
     "execution_count": 16,
     "metadata": {},
     "output_type": "execute_result"
    }
   ],
   "source": [
    "#summary statistics\n",
    "features.describe()\n",
    "features.columns.values"
   ]
  },
  {
   "cell_type": "code",
   "execution_count": 17,
   "metadata": {},
   "outputs": [],
   "source": [
    "#pd.options.display.max_rows = 181\n",
    "pd.options.display.max_columns = 30\n",
    "#features.sort_values(by = \"L [mm]\", ascending = True, inplace = True)\n",
    "#display(features)"
   ]
  },
  {
   "cell_type": "code",
   "execution_count": 18,
   "metadata": {},
   "outputs": [],
   "source": [
    "#one hot encoding\n",
    "pd.options.display.max_columns = 181\n",
    "pd.options.display.max_rows = 181\n",
    "\n",
    "if 'n [count]' in features.columns and 'Material' in features.columns:\n",
    "    features = pd.get_dummies(features, columns = ['n [count]', 'Material'])\n",
    "elif 'n [count]' in features.columns:\n",
    "    features = pd.get_dummies(features, columns = ['n [count]'])\n",
    "elif 'Material' in features.columns:\n",
    "    features = pd.get_dummies(features, columns = ['Material'])\n",
    "#features.head(5)\n",
    "#display(features)\n",
    "#print_shape(features)"
   ]
  },
  {
   "cell_type": "code",
   "execution_count": 19,
   "metadata": {},
   "outputs": [],
   "source": [
    "#target pmax/f\n",
    "pmax = np.array(features['Pmax [N]']).reshape(1, -1)\n",
    "\n",
    "#Remove labels from the features\n",
    "features = features.drop('Pmax [N]', axis = 1)\n",
    "feature_list = list(features.columns)\n",
    "features = StandardScaler().fit_transform(features)\n",
    "pmax = Normalizer().fit_transform(pmax).reshape(-1, 1)\n",
    "#pca = PCA(n_components = 11)\n",
    "#principalComponents = pca.fit_transform(features)\n",
    "#features = pd.DataFrame(data = principalComponents, columns = ['pc1', 'pc2','pc3','pc4','pc5','pc6','pc7','pc8','pc9','pc10','pc11'])\n",
    "#display(features)\n",
    "#print(pca.explained_variance_ratio_.cumsum())\n",
    "\n",
    "#Covert to numpy arrays\n",
    "features = np.array(features)\n"
   ]
  },
  {
   "cell_type": "code",
   "execution_count": 20,
   "metadata": {},
   "outputs": [],
   "source": [
    "#split the data into training set and testing set \n",
    "train_features, test_features, train_labels, test_labels = train_test_split(features, pmax, test_size = 0.25, random_state = 42)"
   ]
  },
  {
   "cell_type": "code",
   "execution_count": 21,
   "metadata": {},
   "outputs": [
    {
     "name": "stdout",
     "output_type": "stream",
     "text": [
      "Training Features Shape: (132, 8)\n",
      "Training Labels Shape: (132, 1)\n",
      "Testing Features Shape: (45, 8)\n",
      "Testing Labels Shape: (45, 1)\n"
     ]
    }
   ],
   "source": [
    "print('Training Features Shape:', train_features.shape)\n",
    "print('Training Labels Shape:', train_labels.shape)\n",
    "print('Testing Features Shape:', test_features.shape)\n",
    "print('Testing Labels Shape:', test_labels.shape)"
   ]
  },
  {
   "cell_type": "code",
   "execution_count": 22,
   "metadata": {},
   "outputs": [
    {
     "data": {
      "text/plain": [
       "GradientBoostingRegressor(max_features=2, min_samples_leaf=3, n_estimators=1000,\n",
       "                          random_state=42)"
      ]
     },
     "execution_count": 22,
     "metadata": {},
     "output_type": "execute_result"
    }
   ],
   "source": [
    "gb = GradientBoostingRegressor(random_state=42, \n",
    "                               n_estimators=1000, \n",
    "                               learning_rate=0.1, \n",
    "                               max_features=2, \n",
    "                               min_samples_leaf=3)\n",
    "gb.fit(train_features, train_labels.ravel())"
   ]
  },
  {
   "cell_type": "code",
   "execution_count": 23,
   "metadata": {},
   "outputs": [
    {
     "name": "stdout",
     "output_type": "stream",
     "text": [
      "[0.03903951 0.03117068 0.02339287 0.08904034 0.02195669 0.06557666\n",
      " 0.02061221 0.09678759 0.02085682 0.02629087 0.04552322 0.04074962\n",
      " 0.04373921 0.01370424 0.03581345 0.03029896 0.02950791 0.05337357\n",
      " 0.0269638  0.06167888 0.10367039 0.04726877 0.0831254  0.10126403\n",
      " 0.103416   0.02758364 0.10774698 0.04590988 0.16012977 0.05043656\n",
      " 0.05796501 0.02494322 0.04497294 0.01671531 0.09195365 0.04311282\n",
      " 0.08542735 0.01616656 0.02102596 0.06968236 0.10376186 0.02929496\n",
      " 0.08271131 0.02680014 0.05725017]\n"
     ]
    }
   ],
   "source": [
    "gb_predictions = gb.predict(test_features)\n",
    "print(gb_predictions)"
   ]
  },
  {
   "cell_type": "code",
   "execution_count": 24,
   "metadata": {},
   "outputs": [
    {
     "name": "stdout",
     "output_type": "stream",
     "text": [
      "Mean Absolute Error: 0.00484\n"
     ]
    }
   ],
   "source": [
    "gb_mean_absolute_error = mean_absolute_error(test_labels, gb_predictions)\n",
    "print('Mean Absolute Error:', round(gb_mean_absolute_error, 5))"
   ]
  },
  {
   "cell_type": "code",
   "execution_count": 25,
   "metadata": {},
   "outputs": [
    {
     "name": "stdout",
     "output_type": "stream",
     "text": [
      "Mean Square Error:  0.00706\n"
     ]
    }
   ],
   "source": [
    "mean_square_error = mean_squared_error(test_labels, gb_predictions, squared=False)\n",
    "\n",
    "print(\"Mean Square Error: \", round(mean_square_error, 5))"
   ]
  },
  {
   "cell_type": "code",
   "execution_count": 26,
   "metadata": {},
   "outputs": [
    {
     "name": "stdout",
     "output_type": "stream",
     "text": [
      "Explained variance score:  0.9638057\n"
     ]
    }
   ],
   "source": [
    "gb_explained_variance_score = explained_variance_score(test_labels, gb_predictions)\n",
    "\n",
    "print(\"Explained variance score: \", round(gb_explained_variance_score, 7))"
   ]
  }
 ],
 "metadata": {
  "kernelspec": {
   "display_name": "Python 3",
   "language": "python",
   "name": "python3"
  },
  "language_info": {
   "codemirror_mode": {
    "name": "ipython",
    "version": 3
   },
   "file_extension": ".py",
   "mimetype": "text/x-python",
   "name": "python",
   "nbconvert_exporter": "python",
   "pygments_lexer": "ipython3",
   "version": "3.7.3"
  }
 },
 "nbformat": 4,
 "nbformat_minor": 2
}
